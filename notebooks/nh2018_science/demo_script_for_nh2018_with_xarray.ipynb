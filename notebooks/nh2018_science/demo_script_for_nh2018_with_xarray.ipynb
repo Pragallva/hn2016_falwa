{
 "cells": [
  {
   "cell_type": "markdown",
   "id": "f9021b21",
   "metadata": {},
   "source": [
    "Last updated on Aug 25, 2022\n",
    "\n",
    "\n",
    "# Demo script for the analyses done in Nakamura and Huang (2018, Science)\n",
    "\n",
    "Companion notebook to [`demo_script_for_nh2018.ipynb`](demo_script_for_nh2018.ipynb), using the xarray interface."
   ]
  },
  {
   "cell_type": "code",
   "execution_count": 1,
   "id": "1be637aa",
   "metadata": {},
   "outputs": [],
   "source": [
    "import numpy as np\n",
    "import xarray as xr\n",
    "import matplotlib.pyplot as plt\n",
    "from hn2016_falwa.xarrayinterface import QGDataset"
   ]
  },
  {
   "cell_type": "markdown",
   "id": "ca2e13c3",
   "metadata": {},
   "source": [
    "## Load ERA-Interim reanalysis data retrieved from ECMWF server"
   ]
  },
  {
   "cell_type": "code",
   "execution_count": 2,
   "id": "44dda8eb",
   "metadata": {},
   "outputs": [],
   "source": [
    "data_u = xr.open_mfdataset(\"2005-01-23_to_2005-01-30_u.nc\")\n",
    "data_v = xr.open_mfdataset(\"2005-01-23_to_2005-01-30_v.nc\")\n",
    "data_t = xr.open_mfdataset(\"2005-01-23_to_2005-01-30_t.nc\")"
   ]
  },
  {
   "cell_type": "markdown",
   "id": "09ddc6d3",
   "metadata": {},
   "source": [
    "## Compute LWA diagnostics\n",
    "\n",
    "The `QGDataset` automatically recognizes the variable names from ERA data and flips dimensions as required by the underlying `QGField` objects."
   ]
  },
  {
   "cell_type": "code",
   "execution_count": null,
   "id": "9cc23747",
   "metadata": {},
   "outputs": [],
   "source": [
    "qgds = QGDataset(data_u, data_v, data_t)\n",
    "\n",
    "uvtinterp = qgds.interpolate_fields()\n",
    "refstates = qgds.compute_reference_states()\n",
    "lwadiags  = qgds.compute_lwa_and_barotropic_fluxes()"
   ]
  },
  {
   "cell_type": "markdown",
   "id": "e6b46cad",
   "metadata": {},
   "source": [
    "## Visualize"
   ]
  },
  {
   "cell_type": "code",
   "execution_count": null,
   "id": "92be2969",
   "metadata": {},
   "outputs": [],
   "source": [
    "selected_time = \"2005-01-23 00:00:00\"\n",
    "\n",
    "selected_uvtinterp = uvtinterp.sel({ \"time\": selected_time, \"height\": 10000 })\n",
    "selected_refstates = refstates.sel({ \"time\": selected_time })\n",
    "selected_lwadiags  = lwadiags.sel({ \"time\": selected_time, \"height\": 10000 })"
   ]
  },
  {
   "cell_type": "markdown",
   "id": "3f5a462f",
   "metadata": {},
   "source": [
    "### 3D Variables on one pressure level to display"
   ]
  },
  {
   "cell_type": "code",
   "execution_count": null,
   "id": "cba7f967",
   "metadata": {},
   "outputs": [],
   "source": [
    "variables_3d = [\n",
    "    (selected_uvtinterp[\"qgpv\"], 'Quasigeostrophic potential vorticity (QGPV)'),\n",
    "    (selected_lwadiags[\"lwa\"], 'Local wave activity (LWA)'),\n",
    "    (selected_uvtinterp[\"interpolated_u\"], 'Interpolated zonal wind (u)'),\n",
    "    (selected_uvtinterp[\"interpolated_v\"], 'Interpolated meridional wind (v)')\n",
    "]\n",
    "\n",
    "for variable, name in variables_3d:\n",
    "    plt.figure(figsize=(12, 6))\n",
    "    plt.contourf(variable['xlon'], variable['ylat'], variable, 50, cmap='jet')\n",
    "    if name == 'Local wave activity (LWA)':\n",
    "        plt.axhline(y=0, c='w', lw=30)\n",
    "    plt.colorbar()\n",
    "    plt.ylabel('Latitude (deg)')\n",
    "    plt.xlabel('Longitude (deg)')\n",
    "    plt.title(f\"{name} at 10 km | {selected_time}\")"
   ]
  },
  {
   "cell_type": "markdown",
   "id": "7f99eed7",
   "metadata": {},
   "source": [
    "### Reference states to be displayed on y-z plane"
   ]
  },
  {
   "cell_type": "code",
   "execution_count": null,
   "id": "a5301eff",
   "metadata": {},
   "outputs": [],
   "source": [
    "variables_yz = [\n",
    "    (selected_refstates[\"qref\"], 'Qref'),\n",
    "    (selected_refstates[\"uref\"], 'Uref'),\n",
    "    (selected_refstates[\"ptref\"], 'PTref')\n",
    "]\n",
    "\n",
    "for variable, name in variables_yz:\n",
    "    plt.figure(figsize=(6, 4))\n",
    "    plt.contourf(variable['ylat'], variable['height'], variable, 50, cmap='jet')\n",
    "    plt.axvline(x=0, c='w', lw=2)\n",
    "    plt.xlabel('Latitude (deg)')\n",
    "    plt.ylabel('Pseudoheight (m)')\n",
    "    plt.colorbar()\n",
    "    plt.title(f'{name} | {selected_time}')"
   ]
  },
  {
   "cell_type": "markdown",
   "id": "105d1ade",
   "metadata": {},
   "source": [
    "### Vertically averaged variables to be displayed on x-y plane"
   ]
  },
  {
   "cell_type": "code",
   "execution_count": null,
   "id": "a54d9421",
   "metadata": {
    "scrolled": false
   },
   "outputs": [],
   "source": [
    "variables_xy = [\n",
    "    (selected_lwadiags[\"adv_flux_f1\"], 'Advective flux F1'),\n",
    "    (selected_lwadiags[\"adv_flux_f2\"], 'Advective flux F2'),\n",
    "    (selected_lwadiags[\"adv_flux_f3\"], 'Advective flux F3'),\n",
    "    (selected_lwadiags[\"convergence_zonal_advective_flux\"], 'Advective flux convergence -Div(F1+F2+F3)'),\n",
    "    (selected_lwadiags[\"divergence_eddy_momentum_flux\"], 'divergence_eddy_momentum_flux'),\n",
    "    (selected_lwadiags[\"meridional_heat_flux\"], 'meridional_heat_flux')\n",
    "]\n",
    "\n",
    "for variable, name in variables_xy:\n",
    "    plt.figure(figsize=(12, 6))\n",
    "    plt.contourf(variable['xlon'], variable['ylat'], variable, 50, cmap='jet')\n",
    "    plt.axhline(y=0, c='w', lw=30)\n",
    "    plt.ylabel('Latitude (deg)')\n",
    "    plt.xlabel('Longitude (deg)')\n",
    "    plt.colorbar()\n",
    "    plt.title(f'{name} | {selected_time}')\n",
    "    plt.show()"
   ]
  },
  {
   "cell_type": "markdown",
   "id": "a7550dc4",
   "metadata": {},
   "source": [
    "## Write to disk\n",
    "\n",
    "Write with xarray's [`to_netcdf`](https://docs.xarray.dev/en/stable/generated/xarray.Dataset.to_netcdf.html)."
   ]
  },
  {
   "cell_type": "code",
   "execution_count": null,
   "id": "ba5e2371",
   "metadata": {},
   "outputs": [],
   "source": [
    "xr.merge([uvtinterp, refstates, lwadiags]).to_netcdf(\"2005-01-23_to_2005-01-30_output_xr.nc\")"
   ]
  },
  {
   "cell_type": "markdown",
   "id": "62640f5b",
   "metadata": {},
   "source": [
    "To reduce the file size, compression and/or integer-based value packing can be added by specifying an appropriate `encoding` for the variables."
   ]
  }
 ],
 "metadata": {
  "kernelspec": {
   "display_name": "Python 3 (ipykernel)",
   "language": "python",
   "name": "python3"
  },
  "language_info": {
   "codemirror_mode": {
    "name": "ipython",
    "version": 3
   },
   "file_extension": ".py",
   "mimetype": "text/x-python",
   "name": "python",
   "nbconvert_exporter": "python",
   "pygments_lexer": "ipython3",
   "version": "3.10.8"
  }
 },
 "nbformat": 4,
 "nbformat_minor": 5
}
